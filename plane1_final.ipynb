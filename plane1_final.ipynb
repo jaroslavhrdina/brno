{
 "cells": [
  {
   "cell_type": "code",
   "execution_count": 1,
   "metadata": {},
   "outputs": [],
   "source": [
    "from sympy import *\n",
    "from galgebra.ga import Ga\n",
    "from galgebra.printer import Format\n",
    "Format()\n",
    "import math\n",
    "import sympy as sym"
   ]
  },
  {
   "cell_type": "code",
   "execution_count": 2,
   "metadata": {},
   "outputs": [],
   "source": [
    "cga3d = Ga(r'e_1 e_2 e_3 e e_{0}',g='1 0 0 0 0,0 1 0 0 0,0 0 1 0 0,0 0 0 0 -1,0 0 0 -1 0')"
   ]
  },
  {
   "cell_type": "code",
   "execution_count": 3,
   "metadata": {},
   "outputs": [
    {
     "data": {
      "text/latex": [
       "$$\\left[\\begin{matrix}1 & 0 & 0 & 0 & 0\\\\0 & 1 & 0 & 0 & 0\\\\0 & 0 & 1 & 0 & 0\\\\0 & 0 & 0 & 0 & -1\\\\0 & 0 & 0 & -1 & 0\\end{matrix}\\right]$$"
      ],
      "text/plain": [
       " \\left [ \\begin{array}{ccccc} 1 & 0 & 0 & 0 & 0  \\\\ 0 & 1 & 0 & 0 & 0  \\\\ 0 & 0 & 1 & 0 & 0  \\\\ 0 & 0 & 0 & 0 & -1  \\\\ 0 & 0 & 0 & -1 & 0  \\end{array}\\right ] "
      ]
     },
     "execution_count": 3,
     "metadata": {},
     "output_type": "execute_result"
    }
   ],
   "source": [
    "cga3d.g"
   ]
  },
  {
   "cell_type": "code",
   "execution_count": 4,
   "metadata": {},
   "outputs": [],
   "source": [
    "e1,e2,e3,eo,eoo = cga3d.mv()"
   ]
  },
  {
   "cell_type": "code",
   "execution_count": 5,
   "metadata": {},
   "outputs": [],
   "source": [
    "def pt(arg): # R^3 vector --> conformal point. \n",
    "    if isinstance(arg,str):           # Return general 3D point\n",
    "        v = cm3.mv(arg, 'vector')     # General conformal vector \n",
    "        v = v + (v < eoo)*eo + (v < eo)*eoo  # 3D part \n",
    "        v = eo + v + (v<v)*eoo/2\n",
    "    elif arg == 0:\n",
    "        v = eo\n",
    "    elif (arg < eoo) == 0:    # Return point for 3D vector in arg\n",
    "        v = eo + arg + (arg<arg)*eoo/2\n",
    "    else: v = arg     # arg already in conformal representation   \n",
    "    return(v)"
   ]
  },
  {
   "cell_type": "code",
   "execution_count": 6,
   "metadata": {},
   "outputs": [],
   "source": [
    "ax = sym.Symbol('ax')\n",
    "ay = sym.Symbol('ay')\n",
    "az = sym.Symbol('az')\n",
    "\n",
    "cx = sym.Symbol('cx')\n",
    "cy = sym.Symbol('cy')\n",
    "cz = sym.Symbol('cz')\n",
    "\n",
    "sx = sym.Symbol('sx')\n",
    "sy = sym.Symbol('sy')\n",
    "sz = sym.Symbol('sz')\n",
    "\n",
    "x = sym.Symbol('x')\n",
    "\n",
    "nx= sy\n",
    "ny=-sx\n",
    "nz=0\n",
    "\n",
    "II=e1^e2^e3^eo^eoo\n",
    "A= pt(ax*e1+ay*e2+az*e3)\n",
    "C= pt(cx*e1+cy*e2+cz*e3)\n",
    "S= pt(ax*e1+ay*e2+az*e3+sx*e1+sy*e2+sz*e3)\n",
    "N= pt(ax*e1+ay*e2+az*e3+nx*e1+ny*e2+nz*e3)\n",
    "\n",
    "m=(e1^e2^e3)*((sx*e1+sy*e2+sz*e3)^(nx*e1+ny*e2+nz*e3))\n",
    "M= pt(ax*e1+ay*e2+az*e3+m)"
   ]
  },
  {
   "cell_type": "code",
   "execution_count": 70,
   "metadata": {},
   "outputs": [],
   "source": [
    "plane_1 =((A^M^S^eoo))\n",
    "plane_2 =((A^C^S^eoo))"
   ]
  },
  {
   "cell_type": "code",
   "execution_count": 71,
   "metadata": {},
   "outputs": [],
   "source": [
    "EQ=(plane_1<plane_2)\n",
    "E1=(plane_1<plane_1)\n",
    "E2=(plane_2<plane_2)"
   ]
  },
  {
   "cell_type": "code",
   "execution_count": 72,
   "metadata": {},
   "outputs": [],
   "source": [
    "from sympy.solvers import solve\n",
    "import sympy as sym\n",
    "from sympy  import Symbol"
   ]
  },
  {
   "cell_type": "code",
   "execution_count": 73,
   "metadata": {},
   "outputs": [],
   "source": [
    "EQQ=EQ.subs({ax:10, ay: 24, az: 20,cx:10, cy: 26, cz: 20,sx:10, sy:11, sz: 20})\n",
    "E1Q=E1.subs({ax:10, ay: 24, az: 20,cx:10, cy: 26, cz: 20,sx:10, sy:11, sz: 20})\n",
    "E2Q=E2.subs({ax:10, ay: 24, az: 20,cx:10, cy: 26, cz: 20,sx:10, sy:11, sz: 20})"
   ]
  },
  {
   "cell_type": "code",
   "execution_count": 88,
   "metadata": {},
   "outputs": [
    {
     "data": {
      "text/latex": [
       "\\begin{equation*} \\frac{11}{6862050} \\end{equation*}"
      ],
      "text/plain": [
       "\\frac{11}{6862050}"
      ]
     },
     "execution_count": 88,
     "metadata": {},
     "output_type": "execute_result"
    }
   ],
   "source": [
    "EQQ/(E1Q*E2Q)"
   ]
  },
  {
   "cell_type": "code",
   "execution_count": 89,
   "metadata": {},
   "outputs": [
    {
     "data": {
      "text/latex": [
       "$$1.57079472377539$$"
      ],
      "text/plain": [
       "1.57079472377539"
      ]
     },
     "execution_count": 89,
     "metadata": {},
     "output_type": "execute_result"
    }
   ],
   "source": [
    "sym.acos(float(11/6862050))"
   ]
  },
  {
   "cell_type": "code",
   "execution_count": null,
   "metadata": {},
   "outputs": [],
   "source": []
  }
 ],
 "metadata": {
  "kernelspec": {
   "display_name": "Python 3",
   "language": "python",
   "name": "python3"
  },
  "language_info": {
   "codemirror_mode": {
    "name": "ipython",
    "version": 3
   },
   "file_extension": ".py",
   "mimetype": "text/x-python",
   "name": "python",
   "nbconvert_exporter": "python",
   "pygments_lexer": "ipython3",
   "version": "3.7.2"
  }
 },
 "nbformat": 4,
 "nbformat_minor": 2
}
